{
 "cells": [
  {
   "cell_type": "code",
   "execution_count": 232,
   "metadata": {},
   "outputs": [],
   "source": [
    "import matplotlib.pyplot as plt\n",
    "from PIL import Image, ImageDraw\n",
    "from collections import Counter"
   ]
  },
  {
   "cell_type": "markdown",
   "metadata": {},
   "source": [
    "# Functions:"
   ]
  },
  {
   "cell_type": "markdown",
   "metadata": {},
   "source": [
    "function that shows the image:"
   ]
  },
  {
   "cell_type": "code",
   "execution_count": 233,
   "metadata": {},
   "outputs": [],
   "source": [
    "def showImage(image):\n",
    "    plt.imshow(image)"
   ]
  },
  {
   "cell_type": "markdown",
   "metadata": {},
   "source": [
    "Function that takes a path of an image and shows it:"
   ]
  },
  {
   "cell_type": "code",
   "execution_count": 234,
   "metadata": {},
   "outputs": [],
   "source": [
    "def originalImageOpen(PATH):\n",
    "    image = Image.open(PATH)\n",
    "    plt.imshow(image)"
   ]
  },
  {
   "cell_type": "markdown",
   "metadata": {},
   "source": [
    "imOpen Function:"
   ]
  },
  {
   "cell_type": "code",
   "execution_count": 235,
   "metadata": {},
   "outputs": [],
   "source": [
    "# passes by each pixel and converting the values to greyscale\n",
    "def imOpen(PATH):\n",
    "    originalImage = Image.open(PATH)\n",
    "    image = originalImage.copy()\n",
    "    for i in range(0, image.size[0]):\n",
    "        for j in range(0, image.size[1]):\n",
    "            r, g, b = image.getpixel((i, j))\n",
    "            grayPixel = (0.3 * r) + (0.59 * g) + (0.11 * b)\n",
    "            grayPixel = int(grayPixel)\n",
    "            image.putpixel((i, j), (grayPixel, grayPixel, grayPixel))\n",
    "    return image"
   ]
  },
  {
   "cell_type": "markdown",
   "metadata": {},
   "source": [
    "toStrH Function:"
   ]
  },
  {
   "cell_type": "code",
   "execution_count": 236,
   "metadata": {},
   "outputs": [],
   "source": [
    "# row wise run length coding\n",
    "def toStrH(image):\n",
    "    rowWiseRunLengthCode = \"H\" + \" \" + \\\n",
    "        str(image.size[0]) + \" \" + str(image.size[1])\n",
    "    firstTime = True\n",
    "    iOut = \"\"  # last pixel tested\n",
    "    # j is the row number\n",
    "    for j in range(0, image.size[1]):\n",
    "        rowWiseRunLengthCode = rowWiseRunLengthCode + str(iOut) + \"\\n\"\n",
    "        firstTime = True\n",
    "        # i is the column number\n",
    "        for i in range(0, image.size[0]-1):\n",
    "            iOut = str(i)\n",
    "            if(firstTime):\n",
    "                # run length code type and image dimension\n",
    "                firstTime = False\n",
    "                newr, newg, newb = image.getpixel((i, j))\n",
    "                r, g, b = newr, newg, newb\n",
    "                rowWiseRunLengthCode = rowWiseRunLengthCode + \\\n",
    "                    str(r) + \" \" + str(i) + \" \"\n",
    "            else:\n",
    "                # comparing colors of each pixel to know the run length code\n",
    "                newr, newg, newb = image.getpixel((i, j))\n",
    "                if(newr != r):\n",
    "                    r, g, b = newr, newg, newb\n",
    "                    rowWiseRunLengthCode = rowWiseRunLengthCode + \\\n",
    "                        str(i-1) + \" \" + str(r) + \" \" + str(i) + \" \"\n",
    "    rowWiseRunLengthCode = rowWiseRunLengthCode + str(iOut)\n",
    "    return rowWiseRunLengthCode"
   ]
  },
  {
   "cell_type": "markdown",
   "metadata": {},
   "source": [
    "toStrV Function:"
   ]
  },
  {
   "cell_type": "code",
   "execution_count": 237,
   "metadata": {},
   "outputs": [],
   "source": [
    "def toStrV(image):\n",
    "    columnWiseRunLengthCode = \"V\" + \" \" + \\\n",
    "        str(image.size[0]) + \" \" + str(image.size[1])\n",
    "    firstTime = True\n",
    "    jOut = \"\"  # last pixel tested\n",
    "    # i is the column number\n",
    "    for i in range(0, image.size[0]):\n",
    "        columnWiseRunLengthCode = columnWiseRunLengthCode + str(jOut) + \"\\n\"\n",
    "        firstTime = True\n",
    "        # J is the column number\n",
    "        for j in range(0, image.size[1]-1):\n",
    "            jOut = str(j)\n",
    "            if(firstTime):\n",
    "                # run length code type and image dimension\n",
    "                firstTime = False\n",
    "                newr, newg, newb = image.getpixel((i, j))\n",
    "                r, g, b = newr, newg, newb\n",
    "                columnWiseRunLengthCode = columnWiseRunLengthCode + \\\n",
    "                    str(r) + \" \" + str(j) + \" \"\n",
    "            else:\n",
    "                newr, newg, newb = image.getpixel((i, j))\n",
    "                if(newr != r):\n",
    "                    # comparing colors of each pixel to know the run length code\n",
    "                    r, g, b = newr, newg, newb\n",
    "                    columnWiseRunLengthCode = columnWiseRunLengthCode + \\\n",
    "                        str(j-1) + \" \" + str(r) + \" \" + str(j) + \" \"\n",
    "    columnWiseRunLengthCode = columnWiseRunLengthCode + str(jOut)\n",
    "    return columnWiseRunLengthCode"
   ]
  },
  {
   "cell_type": "markdown",
   "metadata": {},
   "source": [
    "toFile Function:"
   ]
  },
  {
   "cell_type": "code",
   "execution_count": 238,
   "metadata": {},
   "outputs": [],
   "source": [
    "# saving run length code to file in directory: F:/GUC/Computer Vision/\n",
    "def toFile(name, runLengthCode):\n",
    "    path = 'F:/GUC/Computer Vision/' + name\n",
    "    file = open(path, 'w+')\n",
    "    file.write(runLengthCode)\n",
    "    file.close()"
   ]
  },
  {
   "cell_type": "markdown",
   "metadata": {},
   "source": [
    "toImg Function:"
   ]
  },
  {
   "cell_type": "code",
   "execution_count": 239,
   "metadata": {},
   "outputs": [],
   "source": [
    "# generating image from run length coding\n",
    "def toImg(path):\n",
    "    file = open(path, 'r')\n",
    "    lines = file.readlines()  # array of lines\n",
    "    values = lines[0].split()  # array of values\n",
    "    # image dimensions\n",
    "    image = Image.new('RGB', (int(values[1]), int(values[2])))\n",
    "    rltype = \"\"\n",
    "    firstLine = True\n",
    "    index = 0\n",
    "    for j in lines:\n",
    "        values = lines[index].split()\n",
    "        # knowing run length coding type (H or V)\n",
    "        if(lines[0][0] == 'H'and (firstLine)):\n",
    "            rltype = 'H'\n",
    "        if(lines[0][0] == 'V'and (firstLine)):\n",
    "            rltype = 'V'\n",
    "        if(rltype == 'H' and not(firstLine)):\n",
    "            i = 0\n",
    "            # taking 3 values at a time: color, start pixel and end pixel\n",
    "            while i <= (len(values)-3):\n",
    "                color = values[i]\n",
    "                start = values[i+1]\n",
    "                end = values[i+2]\n",
    "                color = int(color)\n",
    "                start = int(start)\n",
    "                end = int(end)\n",
    "                # filling in pixels with color between start and end index\n",
    "                while start < (end+1):\n",
    "                    image.putpixel((start, index-1), (color, color, color))\n",
    "                    start = start + 1\n",
    "                i = i+3\n",
    "        if(rltype == 'V' and not(firstLine)):\n",
    "            i = 0\n",
    "            # taking 3 values at a time: color, start pixel and end pixel\n",
    "            while i <= (len(values)-3):\n",
    "                color = values[i]\n",
    "                start = values[i+1]\n",
    "                end = values[i+2]\n",
    "                color = int(color)\n",
    "                start = int(start)\n",
    "                end = int(end)\n",
    "                # filling in pixels with color between start and end index\n",
    "                while start < (end+1):\n",
    "                    image.putpixel((index-1, start), (color, color, color))\n",
    "                    start = start + 1\n",
    "                i = i+3\n",
    "        index = index + 1\n",
    "        firstLine = False\n",
    "    return image"
   ]
  },
  {
   "cell_type": "markdown",
   "metadata": {},
   "source": [
    "# Image Bars:"
   ]
  },
  {
   "cell_type": "code",
   "execution_count": 240,
   "metadata": {},
   "outputs": [
    {
     "data": {
      "image/png": "[encoded data removed]",
      "text/plain": [
       "<Figure size 432x288 with 1 Axes>"
      ]
     },
     "metadata": {
      "needs_background": "light"
     },
     "output_type": "display_data"
    }
   ],
   "source": [
    "originalImageOpen('F:/GUC/Computer Vision/bars.bmp')"
   ]
  },
  {
   "cell_type": "code",
   "execution_count": 241,
   "metadata": {},
   "outputs": [
    {
     "data": {
      "image/png": "[encoded data removed]",
      "text/plain": [
       "<Figure size 432x288 with 1 Axes>"
      ]
     },
     "metadata": {
      "needs_background": "light"
     },
     "output_type": "display_data"
    }
   ],
   "source": [
    "greyScaleImage = imOpen('F:/GUC/Computer Vision/bars.bmp')\n",
    "showImage(greyScaleImage)"
   ]
  },
  {
   "cell_type": "code",
   "execution_count": 242,
   "metadata": {},
   "outputs": [],
   "source": [
    "rowWiseRunLengthCode = toStrH(greyScaleImage)\n",
    "columnWiseRunLengthCode = toStrV(greyScaleImage)"
   ]
  },
  {
   "cell_type": "code",
   "execution_count": 243,
   "metadata": {},
   "outputs": [
    {
     "name": "stdout",
     "output_type": "stream",
     "text": [
      "Character Count in row wise length coding: 238138\n",
      "Character Count in column wise length coding: 11309\n"
     ]
    }
   ],
   "source": [
    "print(\"Character Count in row wise length coding: \" +\n",
    "      str(len(rowWiseRunLengthCode)))\n",
    "print(\"Character Count in column wise length coding: \" +\n",
    "      str(len(columnWiseRunLengthCode)))"
   ]
  },
  {
   "cell_type": "code",
   "execution_count": 244,
   "metadata": {},
   "outputs": [],
   "source": [
    "toFile(\"H.txt\", rowWiseRunLengthCode)\n",
    "toFile(\"V.txt\", columnWiseRunLengthCode)"
   ]
  },
  {
   "cell_type": "markdown",
   "metadata": {},
   "source": [
    "# Image Bars2:"
   ]
  },
  {
   "cell_type": "code",
   "execution_count": 245,
   "metadata": {},
   "outputs": [
    {
     "data": {
      "image/png": "[encoded data removed]",
      "text/plain": [
       "<Figure size 432x288 with 1 Axes>"
      ]
     },
     "metadata": {
      "needs_background": "light"
     },
     "output_type": "display_data"
    }
   ],
   "source": [
    "originalImageOpen('F:/GUC/Computer Vision/bars2.bmp')"
   ]
  },
  {
   "cell_type": "code",
   "execution_count": 246,
   "metadata": {},
   "outputs": [
    {
     "data": {
      "image/png": "[encoded data removed]",
      "text/plain": [
       "<Figure size 432x288 with 1 Axes>"
      ]
     },
     "metadata": {
      "needs_background": "light"
     },
     "output_type": "display_data"
    }
   ],
   "source": [
    "greyScaleImage2 = imOpen('F:/GUC/Computer Vision/bars2.bmp')\n",
    "showImage(greyScaleImage2)"
   ]
  },
  {
   "cell_type": "code",
   "execution_count": 247,
   "metadata": {},
   "outputs": [],
   "source": [
    "rowWiseRunLengthCode2 = toStrH(greyScaleImage2)\n",
    "columnWiseRunLengthCode2 = toStrV(greyScaleImage2)"
   ]
  },
  {
   "cell_type": "code",
   "execution_count": 248,
   "metadata": {},
   "outputs": [
    {
     "name": "stdout",
     "output_type": "stream",
     "text": [
      "Character Count in row wise length coding: 2877\n",
      "Character Count in column wise length coding: 1618009\n"
     ]
    }
   ],
   "source": [
    "print(\"Character Count in row wise length coding: \" +\n",
    "      str(len(rowWiseRunLengthCode2)))\n",
    "print(\"Character Count in column wise length coding: \" +\n",
    "      str(len(columnWiseRunLengthCode2)))"
   ]
  },
  {
   "cell_type": "code",
   "execution_count": 249,
   "metadata": {},
   "outputs": [],
   "source": [
    "toFile(\"H2.txt\", rowWiseRunLengthCode2)\n",
    "toFile(\"V2.txt\", columnWiseRunLengthCode2)"
   ]
  },
  {
   "cell_type": "markdown",
   "metadata": {},
   "source": [
    "# compression effectiveness for each of the run-length codes:"
   ]
  },
  {
   "cell_type": "markdown",
   "metadata": {},
   "source": [
    "The first image, Bars, had a row wise run length code with a character length of 238138 and a column wise run length code with a character length of 11309. Meaning that column wise run length coding was better. However, if we look at the second image, Bars2, we will see that it had a row wise run length code with a character length of 2877 and a column wise run length code with a character length of 1629009. Meaning that row wise run length coding was better. This shows that neither are the perfect way to make run length coding. It all depends on the image itself. In Bars column wise run length coding preformed better because the image changed color after some columns. Meaning that the color would be constant in the all columns and therefore, the characters in each line in the string is smaller as the start index and end index has a huge in between. If we look at the row wise run length coding on the Bars image each line contains a lot of characters because the color rate of changing is higher row wise needing different start and end indexes for each color and therefore, taking more space and decreasing the compression effectiveness. Vice versa in the Bars2 Image the color change rate is higher in the columns and therefore, row wise run length coding created a more effective compression technique.  "
   ]
  },
  {
   "cell_type": "markdown",
   "metadata": {},
   "source": [
    "# Mystery Image 1:"
   ]
  },
  {
   "cell_type": "code",
   "execution_count": 250,
   "metadata": {},
   "outputs": [
    {
     "data": {
      "image/png": "[encoded data removed]",
      "text/plain": [
       "<Figure size 432x288 with 1 Axes>"
      ]
     },
     "metadata": {
      "needs_background": "light"
     },
     "output_type": "display_data"
    }
   ],
   "source": [
    "mysteryImage1 = toImg(\"F:/GUC/Computer Vision/Mystery1.txt\")\n",
    "showImage(mysteryImage1)"
   ]
  },
  {
   "cell_type": "markdown",
   "metadata": {},
   "source": [
    "# Mystery Image 2:"
   ]
  },
  {
   "cell_type": "code",
   "execution_count": 251,
   "metadata": {},
   "outputs": [
    {
     "data": {
      "image/png": "[encoded data removed]",
      "text/plain": [
       "<Figure size 432x288 with 1 Axes>"
      ]
     },
     "metadata": {
      "needs_background": "light"
     },
     "output_type": "display_data"
    }
   ],
   "source": [
    "mysteryImage2 = toImg(\"F:/GUC/Computer Vision/Mystery2.txt\")\n",
    "showImage(mysteryImage2)"
   ]
  }
 ],
 "metadata": {
  "kernelspec": {
   "display_name": "Python 3",
   "language": "python",
   "name": "python3"
  },
  "language_info": {
   "codemirror_mode": {
    "name": "ipython",
    "version": 3
   },
   "file_extension": ".py",
   "mimetype": "text/x-python",
   "name": "python",
   "nbconvert_exporter": "python",
   "pygments_lexer": "ipython3",
   "version": "3.7.6"
  },
  "toc": {
   "base_numbering": 1,
   "nav_menu": {},
   "number_sections": true,
   "sideBar": true,
   "skip_h1_title": false,
   "title_cell": "Table of Contents",
   "title_sidebar": "Contents",
   "toc_cell": false,
   "toc_position": {},
   "toc_section_display": true,
   "toc_window_display": false
  }
 },
 "nbformat": 4,
 "nbformat_minor": 4
}
